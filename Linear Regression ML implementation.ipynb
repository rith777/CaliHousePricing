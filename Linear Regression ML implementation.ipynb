{
 "cells": [
  {
   "cell_type": "code",
   "execution_count": null,
   "id": "6d0aa573-3a1f-41ac-ae3e-9450981f6857",
   "metadata": {},
   "outputs": [
    {
     "ename": "",
     "evalue": "",
     "output_type": "error",
     "traceback": [
      "\u001b[1;31mRunning cells with 'aprel_env (Python 3.8.20)' requires the ipykernel package.\n",
      "\u001b[1;31m<a href='command:jupyter.createPythonEnvAndSelectController'>Create a Python Environment</a> with the required packages.\n",
      "\u001b[1;31mOr install 'ipykernel' using the command: 'conda install -n aprel_env ipykernel --update-deps --force-reinstall'"
     ]
    }
   ],
   "source": [
    "import pandas as pd\n",
    "import numpy as np\n",
    "import matplotlib.pyplot as plt\n",
    "import seaborn as sns\n",
    "import pickle\n",
    "\n",
    "from sklearn.datasets import fetch_california_housing\n",
    "from sklearn.ensemble import RandomForestRegressor\n",
    "from sklearn.model_selection import train_test_split\n",
    "from sklearn.preprocessing import StandardScaler\n",
    "from sklearn.metrics import mean_absolute_error, r2_score, mean_squared_error\n",
    "\n",
    "# Load data\n",
    "cali = fetch_california_housing()\n",
    "df = pd.DataFrame(cali.data, columns=cali.feature_names)\n",
    "df['Price'] = cali.target  # Keep original units (100k USD)\n",
    "\n",
    "# Train-test split\n",
    "X = df.drop('Price', axis=1)\n",
    "y = df['Price']\n",
    "X_train, X_test, y_train, y_test = train_test_split(X, y, test_size=0.2, random_state=42)\n",
    "\n",
    "# Feature scaling\n",
    "scaler = StandardScaler()\n",
    "X_train_scaled = scaler.fit_transform(X_train)\n",
    "X_test_scaled = scaler.transform(X_test)\n",
    "\n",
    "# Train Random Forest\n",
    "rf = RandomForestRegressor(\n",
    "    n_estimators=200,\n",
    "    min_samples_leaf=5,\n",
    "    max_features=0.5,\n",
    "    n_jobs=-1,\n",
    "    random_state=42\n",
    ")\n",
    "rf.fit(X_train_scaled, y_train)\n",
    "preds = rf.predict(X_test_scaled)\n",
    "\n",
    "\n",
    "# Metrics\n",
    "print(\"Random Forest Performance:\")\n",
    "print(f\"MAE: ${mean_absolute_error(y_test, preds)*100000:,.2f}\")\n",
    "print(f\"RMSE: ${np.sqrt(mean_squared_error(y_test, preds))*100000:,.2f}\")\n",
    "score = r2_score(y_test, preds)\n",
    "print(f\"R²: {score:.4f}\")\n",
    "print(f\"Adjusted R²: {1 - (1-score)*(len(y_test)-1)/(len(y_test)-X_test.shape[1]-1):.4f}\")\n",
    "\n",
    "# Set up plot grid\n",
    "plt.figure(figsize=(18, 12))\n",
    "plt.suptitle('Model Diagnostic Plots', y=1.02, fontsize=16)\n",
    "\n",
    "# 1. Actual vs Predicted Plot\n",
    "plt.subplot(2, 3, 1)\n",
    "sns.regplot(x=y_test, y=preds, scatter_kws={'alpha':0.3}, line_kws={'color':'red'})\n",
    "plt.plot([y_test.min(), y_test.max()], [y_test.min(), y_test.max()], 'k--')\n",
    "plt.xlabel('Actual Price ($100k)')\n",
    "plt.ylabel('Predicted Price ($100k)')\n",
    "plt.title('Actual vs Predicted Prices')\n",
    "\n",
    "# 2. Residual Plot\n",
    "residuals = y_test - preds\n",
    "plt.subplot(2, 3, 2)\n",
    "sns.scatterplot(x=preds, y=residuals, alpha=0.3)\n",
    "plt.axhline(y=0, color='r', linestyle='--')\n",
    "plt.xlabel('Predicted Values')\n",
    "plt.ylabel('Residuals')\n",
    "plt.title('Residuals vs Predicted')\n",
    "\n",
    "# 3. Error Distribution\n",
    "plt.subplot(2, 3, 3)\n",
    "sns.histplot(residuals, kde=True, bins=30)\n",
    "plt.axvline(x=0, color='r', linestyle='--')\n",
    "plt.xlabel('Prediction Error ($100k)')\n",
    "plt.title('Error Distribution')\n",
    "\n",
    "# 4. Feature Importance (Bar Plot)\n",
    "importances = pd.DataFrame({\n",
    "    'feature': X_train.columns,\n",
    "    'importance': rf.feature_importances_\n",
    "}).sort_values('importance', ascending=False)\n",
    "\n",
    "plt.subplot(2, 3, 4)\n",
    "sns.barplot(x='importance', y='feature', data=importances, palette='viridis')\n",
    "plt.title('Feature Importances')\n",
    "\n",
    "# 5. Actual vs Predicted Distribution\n",
    "plt.subplot(2, 3, 5)\n",
    "sns.kdeplot(y_test, label='Actual', color='blue', fill=True)\n",
    "sns.kdeplot(preds, label='Predicted', color='orange', fill=True, alpha=0.5)\n",
    "plt.xlabel('Price ($100k)')\n",
    "plt.title('Distribution Comparison')\n",
    "plt.legend()\n",
    "\n",
    "# 6. Error vs Feature Value (Top Feature)\n",
    "top_feature = importances.iloc[0]['feature']\n",
    "plt.subplot(2, 3, 6)\n",
    "sns.scatterplot(x=X_test[top_feature], y=residuals, alpha=0.3)\n",
    "plt.axhline(y=0, color='r', linestyle='--')\n",
    "plt.xlabel(top_feature)\n",
    "plt.ylabel('Residual Error')\n",
    "plt.title(f'Errors vs {top_feature}')\n",
    "\n",
    "plt.tight_layout()\n",
    "plt.show()\n",
    "\n",
    "from sklearn.inspection import PartialDependenceDisplay\n",
    "print(\"\\nPartial Dependence Plots:\")\n",
    "fig, ax = plt.subplots(figsize=(12, 4))\n",
    "\n",
    "PartialDependenceDisplay.from_estimator(\n",
    "    rf, \n",
    "    X_train, \n",
    "    features=[importances.iloc[0]['feature']], \n",
    "    ax=ax\n",
    ")\n",
    "plt.tight_layout()\n",
    "plt.show()\n",
    "rf.predict(scaler.transform(cali.data[0].reshape(1,-1)))"
   ]
  },
  {
   "cell_type": "markdown",
   "id": "b9803ce0-2538-48e4-885f-7b6578c68745",
   "metadata": {},
   "source": [
    "### New Data Prediction"
   ]
  },
  {
   "cell_type": "code",
   "execution_count": null,
   "id": "abe0e537-7b55-47c5-a60c-c64e41e3a6e2",
   "metadata": {},
   "outputs": [],
   "source": [
    "deployment_assets = {\n",
    "    'model': rf,\n",
    "    'scaler': scaler,\n",
    "    'feature_names': X.columns.tolist()\n",
    "}\n",
    "\n",
    "with open(\"california_housing_rf.pkl\", \"wb\") as f:\n",
    "    pickle.dump(deployment_assets, f)\n",
    "\n",
    "print(\"\\n✅ Model, scaler, and feature names saved to 'california_housing_rf.pkl'\")"
   ]
  },
  {
   "cell_type": "code",
   "execution_count": 240,
   "id": "a9a4a9fe-2819-4fc0-9686-f6262bfca114",
   "metadata": {},
   "outputs": [],
   "source": [
    "with open('california_housing_rf.pkl', 'rb') as f:\n",
    "     loaded_model = pickle.load(f)"
   ]
  },
  {
   "cell_type": "code",
   "execution_count": 242,
   "id": "753ae8da-b71d-4992-ac1a-1a4d3e370bf2",
   "metadata": {},
   "outputs": [
    {
     "name": "stderr",
     "output_type": "stream",
     "text": [
      "/opt/anaconda3/lib/python3.12/site-packages/sklearn/utils/validation.py:2739: UserWarning: X does not have valid feature names, but RandomForestRegressor was fitted with feature names\n",
      "  warnings.warn(\n"
     ]
    },
    {
     "data": {
      "text/plain": [
       "array([4.38917435])"
      ]
     },
     "execution_count": 242,
     "metadata": {},
     "output_type": "execute_result"
    }
   ],
   "source": [
    "loaded_model.predict(scaler.transform(cali.data[0].reshape(1,-1)))"
   ]
  },
  {
   "cell_type": "code",
   "execution_count": null,
   "id": "6f0b6e8a-5285-4d5c-93e0-b7957ad15743",
   "metadata": {},
   "outputs": [],
   "source": [
    " "
   ]
  }
 ],
 "metadata": {
  "kernelspec": {
   "display_name": "aprel_env",
   "language": "python",
   "name": "python3"
  },
  "language_info": {
   "codemirror_mode": {
    "name": "ipython",
    "version": 3
   },
   "file_extension": ".py",
   "mimetype": "text/x-python",
   "name": "python",
   "nbconvert_exporter": "python",
   "pygments_lexer": "ipython3",
   "version": "3.8.20"
  }
 },
 "nbformat": 4,
 "nbformat_minor": 5
}
